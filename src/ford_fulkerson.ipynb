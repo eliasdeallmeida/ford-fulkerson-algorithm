{
 "cells": [
  {
   "cell_type": "markdown",
   "metadata": {},
   "source": [
    "# Algoritmo de Ford-Fulkerson"
   ]
  },
  {
   "cell_type": "code",
   "execution_count": 50,
   "metadata": {},
   "outputs": [],
   "source": [
    "from collections import defaultdict"
   ]
  },
  {
   "cell_type": "code",
   "execution_count": 51,
   "metadata": {},
   "outputs": [],
   "source": [
    "class Graph:\n",
    "    def __init__(self, graph):\n",
    "        self.graph = graph\n",
    "        self.row = len(graph)"
   ]
  },
  {
   "cell_type": "code",
   "execution_count": 52,
   "metadata": {},
   "outputs": [],
   "source": [
    "def bfs(graph, s, t, parent):\n",
    "    visited = [False] * (graph.row)\n",
    "    queue = []\n",
    "    queue.append(s)\n",
    "    visited[s] = True\n",
    "    while queue:\n",
    "        u = queue.pop(0)\n",
    "        for ind, val in enumerate(graph.graph[u]):\n",
    "            if visited[ind] == False and val > 0:\n",
    "                queue.append(ind)\n",
    "                visited[ind] = True\n",
    "                parent[ind] = u\n",
    "                if ind == t:\n",
    "                    return True\n",
    "    return False"
   ]
  },
  {
   "cell_type": "code",
   "execution_count": 53,
   "metadata": {},
   "outputs": [],
   "source": [
    "def ford_fulkerson(graph, source, sink):\n",
    "    parent = [-1] * (graph.row)\n",
    "    max_flow = 0\n",
    "    while bfs(graph, source, sink, parent):\n",
    "        path_flow = float(\"inf\")\n",
    "        s = sink\n",
    "        while(s != source):\n",
    "            path_flow = min(path_flow, graph.graph[parent[s]][s])\n",
    "            s = parent[s]\n",
    "        max_flow += path_flow\n",
    "        v = sink\n",
    "        while(v != source):\n",
    "            u = parent[v]\n",
    "            graph.graph[u][v] -= path_flow\n",
    "            graph.graph[v][u] += path_flow\n",
    "            v = parent[v]\n",
    "    return max_flow"
   ]
  },
  {
   "cell_type": "markdown",
   "metadata": {},
   "source": [
    "## Exemplo 1"
   ]
  },
  {
   "cell_type": "code",
   "execution_count": 55,
   "metadata": {},
   "outputs": [
    {
     "name": "stdout",
     "output_type": "stream",
     "text": [
      "O fluxo máximo de 0 para 4 é 17\n"
     ]
    }
   ],
   "source": [
    "adjacency_matrix = [\n",
    "    [0, 10, 5, 15, 0],\n",
    "    [0, 0, 4, 0, 9],\n",
    "    [0, 0, 0, 4, 8],\n",
    "    [0, 0, 20, 0, 0],\n",
    "    [0, 15, 0, 6, 0],\n",
    "]\n",
    "graph = Graph(adjacency_matrix)\n",
    "source = 0\n",
    "sink = 4\n",
    "print (f'O fluxo máximo de {source} para {sink} é {ford_fulkerson(graph, source, sink)}')"
   ]
  },
  {
   "cell_type": "markdown",
   "metadata": {},
   "source": [
    "## Exemplo 2"
   ]
  },
  {
   "cell_type": "code",
   "execution_count": 54,
   "metadata": {},
   "outputs": [
    {
     "name": "stdout",
     "output_type": "stream",
     "text": [
      "O fluxo máximo de 0 para 5 é 23\n"
     ]
    }
   ],
   "source": [
    "adjacency_matrix = [\n",
    "    [0, 16, 13, 0, 0, 0],\n",
    "    [0, 0, 10, 12, 0, 0],\n",
    "    [0, 4, 0, 0, 14, 0],\n",
    "    [0, 0, 9, 0, 0, 20],\n",
    "    [0, 0, 0, 7, 0, 4],\n",
    "    [0, 0, 0, 0, 0, 0]\n",
    "]\n",
    "graph = Graph(adjacency_matrix)\n",
    "source = 0\n",
    "sink = 5\n",
    "print (f'O fluxo máximo de {source} para {sink} é {ford_fulkerson(graph, source, sink)}')"
   ]
  }
 ],
 "metadata": {
  "kernelspec": {
   "display_name": "Python 3",
   "language": "python",
   "name": "python3"
  },
  "language_info": {
   "codemirror_mode": {
    "name": "ipython",
    "version": 3
   },
   "file_extension": ".py",
   "mimetype": "text/x-python",
   "name": "python",
   "nbconvert_exporter": "python",
   "pygments_lexer": "ipython3",
   "version": "3.11.4"
  }
 },
 "nbformat": 4,
 "nbformat_minor": 2
}
